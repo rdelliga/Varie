%%bash
#!/bin/bash

KERNEL_NAME="coffea_kernel"


# Create a virtual evironment
python3.6 -m virtualenv my_env
source $KERNEL_NAME/bin/activate

# Update pip
pip install --upgrade pip

# Install coffea
pip install coffea

# Create the kernel
ipython kernel install --user --name=$KERNEL_NAME

# Report OK
echo "Installed coffea into $KERNEL_NAME!"



